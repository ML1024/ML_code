{
 "cells": [
  {
   "attachments": {},
   "cell_type": "markdown",
   "metadata": {},
   "source": [
    "## 端对端的机器学习项目  \n",
    "-- P58"
   ]
  },
  {
   "attachments": {},
   "cell_type": "markdown",
   "metadata": {},
   "source": [
    "### 流行的开放数据存储库\n",
    "流行的开放数据存储库：  \n",
    "·UC Irvine Machine Learning Repository（http://archive.ics.uci.edu/ml/）  \n",
    "·Kaggle datasets（https://www.kaggle.com/datasets）  \n",
    "·Amazon’s AWS datasets（http://aws.amazon.com/fr/datasets/）  \n",
    "\n",
    "元门户站点（它们会列出开放的数据存储库）：  \n",
    "·http://dataportals.org/  \n",
    "·http://opendatamonitor.eu/  \n",
    "·http://quandl.com/  \n",
    "\n",
    "·其他一些列出许多流行的开放数据存储库的页面：  \n",
    "·Wikipedia’s list of Machine Learning datasets（https://goo.gl/SJHN2k）  \n",
    "·Quora.com question（http://goo.gl/zDR78y）  \n",
    "·Datasets subreddit（https://www.reddit.com/r/datasets）  "
   ]
  },
  {
   "attachments": {},
   "cell_type": "markdown",
   "metadata": {},
   "source": [
    "#### 一个端对端的机器学习项目步骤\n",
    "1. 观察大局   \n",
    "数据流水线（Pipeline）：指一个序列的数据处理组件   \n",
    "2. 获得数据   \n",
    "3. 从数据探索和可视化中获得洞见   \n",
    "4. 机器学习算法的数据准备挨   \n",
    "5. 选择和训练模型   \n",
    "6. 微调模型   \n",
    "7. 展示解决方案   \n",
    "8. 启动、监控和维护系统   "
   ]
  }
 ],
 "metadata": {
  "kernelspec": {
   "display_name": "Python 3",
   "language": "python",
   "name": "python3"
  },
  "language_info": {
   "name": "python",
   "version": "3.9.7 (tags/v3.9.7:1016ef3, Aug 30 2021, 20:19:38) [MSC v.1929 64 bit (AMD64)]"
  },
  "orig_nbformat": 4,
  "vscode": {
   "interpreter": {
    "hash": "1eb71e714c2a1bbfc91d3a1ed02399b846367c62fca82a5b3a9325d7b60709de"
   }
  }
 },
 "nbformat": 4,
 "nbformat_minor": 2
}
