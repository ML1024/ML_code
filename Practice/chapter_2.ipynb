{
 "cells": [
  {
   "attachments": {},
   "cell_type": "markdown",
   "metadata": {},
   "source": [
    "## 端对端的机器学习项目  \n",
    "-- P58"
   ]
  },
  {
   "attachments": {},
   "cell_type": "markdown",
   "metadata": {},
   "source": [
    "### 流行的开放数据存储库\n",
    "流行的开放数据存储库：  \n",
    "·UC Irvine Machine Learning Repository（http://archive.ics.uci.edu/ml/）  \n",
    "·Kaggle datasets（https://www.kaggle.com/datasets）  \n",
    "·Amazon’s AWS datasets（http://aws.amazon.com/fr/datasets/）  \n",
    "\n",
    "元门户站点（它们会列出开放的数据存储库）：  \n",
    "·http://dataportals.org/  \n",
    "·http://opendatamonitor.eu/  \n",
    "·http://quandl.com/  \n",
    "\n",
    "·其他一些列出许多流行的开放数据存储库的页面：  \n",
    "·Wikipedia’s list of Machine Learning datasets（https://goo.gl/SJHN2k）  \n",
    "·Quora.com question（http://goo.gl/zDR78y）  \n",
    "·Datasets subreddit（https://www.reddit.com/r/datasets）  "
   ]
  },
  {
   "attachments": {},
   "cell_type": "markdown",
   "metadata": {},
   "source": [
    "### 一个端对端的机器学习项目步骤\n",
    "案例：从StatLib库中选择了加州住房价格的数据集，该数据集基于1990年加州人口普查的数据。假设你是一个房地产公司最近新雇佣的数据科学家，你要做的第一件事是使用加州人口\n",
    "普查的数据建立起加州的房价模型。   "
   ]
  },
  {
   "attachments": {},
   "cell_type": "markdown",
   "metadata": {},
   "source": [
    "##### 1. 观察大局 P61\n",
    "\n",
    "1.1 框架问题：询问业务目标是什么，因为建立模型本身可能不是最终的目标。公司期望知道如何使用这个模型，如何从中获益？这才是重要的问题，因为这将决定你怎么设定问题，选\n",
    "    择什么算法，使用什么测量方式来评估模型的性能，以及应该花多少精力来进行调整。\n",
    "\n",
    "· 数据流水线（Pipeline）：指一个序列的数据处理组件\n",
    "  \n",
    "  \n",
    "1.2 选择性能指标  \n",
    "    \n",
    "本案例：是一个典型的回归任务  \n",
    "· 均方根误差（RMSE）：是回归问题的典型性能衡量指标，通常是回归任务的首选性能衡量指标  \n",
    "· 平均绝对误差（MAE)：当有很多离群区域时，你可以考虑使用MAE  \n",
    "\n",
    "· 计算平方和的根（RMSE）对应欧几里得范数：它应该是你比较熟悉的距离概念。也称之为L2范数，记作||·||2（或者||·||）。  \n",
    "· 计算绝对值的总和（MAE）对应L1范数，记作||·||1。有时它也被称为曼哈顿距离，因为它在测量一个城市的两点之间的距离时，只能沿着正交的城市街区行走。  \n",
    "· 范数指数越高，则越关注大的价值，忽视小的价值。这就是为什么RMSE比MAE对异常值更敏感。但是当异常值非常稀少（例如钟形曲线）时，RMSE的表现优异，通常作为首选。  \n",
    "\n",
    "1.3 检查假设"
   ]
  },
  {
   "attachments": {},
   "cell_type": "markdown",
   "metadata": {},
   "source": [
    "##### 2. 获得数据 P68\n",
    "\n",
    "\n",
    "\n",
    "\n",
    "\n",
    "3. 从数据探索和可视化中获得洞见   \n",
    "4. 机器学习算法的数据准备挨   \n",
    "5. 选择和训练模型   \n",
    "6. 微调模型   \n",
    "7. 展示解决方案   \n",
    "8. 启动、监控和维护系统   "
   ]
  }
 ],
 "metadata": {
  "kernelspec": {
   "display_name": "Python 3",
   "language": "python",
   "name": "python3"
  },
  "language_info": {
   "name": "python",
   "version": "3.9.7 (tags/v3.9.7:1016ef3, Aug 30 2021, 20:19:38) [MSC v.1929 64 bit (AMD64)]"
  },
  "orig_nbformat": 4,
  "vscode": {
   "interpreter": {
    "hash": "1eb71e714c2a1bbfc91d3a1ed02399b846367c62fca82a5b3a9325d7b60709de"
   }
  }
 },
 "nbformat": 4,
 "nbformat_minor": 2
}
