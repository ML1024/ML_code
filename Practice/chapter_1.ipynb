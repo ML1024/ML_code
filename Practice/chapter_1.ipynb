{
 "cells": [
  {
   "attachments": {},
   "cell_type": "markdown",
   "metadata": {},
   "source": [
    "### 监督式学习\n",
    "· k-近邻算法（k-Nearest Neighbors）  \n",
    "· 线性回归（Linear Regression）  \n",
    "· 逻辑回归（Logistic Regression）  \n",
    "· 支持向量机（Support Vector Machine, SVM）  \n",
    "· 决策树和随机森林（Decision Trees and Random Forests）  \n",
    "· 神经网络（Neural networks）  \n",
    "\n",
    "### 无监督式学习\n",
    "· 聚类算法  \n",
    "· k-平均算法（k-Means）  \n",
    "· 分层聚类分析（Hierarchical Cluster Analysis, HCA）  \n",
    "· 最大期望算法（Expectation Maximization）  \n",
    "· 可视化和降维  \n",
    "· 主成分分析（PCA)  \n",
    "· 核主成分分析（Kernel PCA）  \n",
    "· 局部线性嵌入（LLE）  \n",
    "· t-分布随机近邻嵌入（t-SNE）  \n",
    "· 关联规则学习  \n",
    "· Apriori  \n",
    "· Eclat  "
   ]
  },
  {
   "attachments": {},
   "cell_type": "markdown",
   "metadata": {},
   "source": [
    "基于模型的学习：金钱是否让人感到快乐\n",
    "从经合组织（OECD）的网站（https://goo.gl/0Eht9W）上下载“幸福指数”的数据，\n",
    "再从国际货币基金组织（IMF）的网站（http://goo.gl/j1MSKe）上找到人均GDP的统计数据"
   ]
  },
  {
   "cell_type": "code",
   "execution_count": null,
   "metadata": {},
   "outputs": [],
   "source": [
    "# "
   ]
  }
 ],
 "metadata": {
  "kernelspec": {
   "display_name": "Python 3",
   "language": "python",
   "name": "python3"
  },
  "language_info": {
   "name": "python",
   "version": "3.9.7 (tags/v3.9.7:1016ef3, Aug 30 2021, 20:19:38) [MSC v.1929 64 bit (AMD64)]"
  },
  "orig_nbformat": 4,
  "vscode": {
   "interpreter": {
    "hash": "1eb71e714c2a1bbfc91d3a1ed02399b846367c62fca82a5b3a9325d7b60709de"
   }
  }
 },
 "nbformat": 4,
 "nbformat_minor": 2
}
